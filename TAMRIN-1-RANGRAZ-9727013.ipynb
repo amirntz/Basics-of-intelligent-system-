{
  "nbformat": 4,
  "nbformat_minor": 0,
  "metadata": {
    "colab": {
      "provenance": [],
      "authorship_tag": "ABX9TyOA6NbxgcsQ5HLlMsvSMgVr",
      "include_colab_link": true
    },
    "kernelspec": {
      "name": "python3",
      "display_name": "Python 3"
    },
    "language_info": {
      "name": "python"
    }
  },
  "cells": [
    {
      "cell_type": "markdown",
      "metadata": {
        "id": "view-in-github",
        "colab_type": "text"
      },
      "source": [
        "<a href=\"https://colab.research.google.com/github/amirntz/Basics-of-intelligent-system-/blob/main/TAMRIN-1-RANGRAZ-9727013.ipynb\" target=\"_parent\"><img src=\"https://colab.research.google.com/assets/colab-badge.svg\" alt=\"Open In Colab\"/></a>"
      ]
    },
    {
      "cell_type": "markdown",
      "source": [
        "Question 1: Write a Python program that asks the user for their age. If the age is greater than or equal to 18, print \"You are an adult.\" Otherwise, print \"You are a minor.\""
      ],
      "metadata": {
        "id": "waQVcc651YW6"
      }
    },
    {
      "cell_type": "code",
      "source": [
        "age = int(input(\"Enter your age: \"))\n",
        "if age >= 18:\n",
        "    print(\"You are an adult.\")\n",
        "else:\n",
        "    print(\"You are a minor.\")"
      ],
      "metadata": {
        "colab": {
          "base_uri": "https://localhost:8080/"
        },
        "id": "Na7mDotz1Yfz",
        "outputId": "44007402-ae53-46b6-9937-0ee3eb00f9cb"
      },
      "execution_count": null,
      "outputs": [
        {
          "output_type": "stream",
          "name": "stdout",
          "text": [
            "Enter your age: 20\n",
            "You are an adult.\n"
          ]
        }
      ]
    },
    {
      "cell_type": "markdown",
      "source": [
        "Question 2: Write a Python program to print the numbers from 1 to 10 using a for loop."
      ],
      "metadata": {
        "id": "sax_6amh2n6Q"
      }
    },
    {
      "cell_type": "code",
      "source": [
        "for num in range(1, 11):\n",
        "    print(num)"
      ],
      "metadata": {
        "id": "oIuT88vh2r3z"
      },
      "execution_count": null,
      "outputs": []
    },
    {
      "cell_type": "markdown",
      "source": [
        "Question 3: Write a Python program to calculate the sum of all even numbers from 1 to 20 using a while loop."
      ],
      "metadata": {
        "id": "qRgA34PV27lV"
      }
    },
    {
      "cell_type": "code",
      "source": [
        "total = 0\n",
        "num=1\n",
        "while num <= 20:\n",
        "    if num % 2 == 0 :\n",
        "        total += num\n",
        "    num+=1\n",
        "print(f\"Sum of even numbers from 1 to 20: {total}\")\n"
      ],
      "metadata": {
        "colab": {
          "base_uri": "https://localhost:8080/"
        },
        "id": "AEwMwji63xSc",
        "outputId": "3de43647-c816-4a55-ad85-56987f40781a"
      },
      "execution_count": null,
      "outputs": [
        {
          "output_type": "stream",
          "name": "stdout",
          "text": [
            "Sum of even numbers from 1 to 20: 110\n"
          ]
        }
      ]
    },
    {
      "cell_type": "markdown",
      "source": [
        "Question 4: Define a function called multiply that takes two parameters and returns their product."
      ],
      "metadata": {
        "id": "EsSRyU1V4rbU"
      }
    },
    {
      "cell_type": "code",
      "source": [
        "def multiply(x, y):\n",
        "    return x * y\n",
        "\n",
        "m = multiply(3,6)\n",
        "print(m)"
      ],
      "metadata": {
        "colab": {
          "base_uri": "https://localhost:8080/"
        },
        "id": "V0MajbXu4rrr",
        "outputId": "f99f26da-7321-43d0-872e-0e4ad73467a3"
      },
      "execution_count": null,
      "outputs": [
        {
          "output_type": "stream",
          "name": "stdout",
          "text": [
            "18\n"
          ]
        }
      ]
    },
    {
      "cell_type": "markdown",
      "source": [
        "Question 5: Create a class called Person with a constructor method that initializes the name and age attributes. Then, create an instance of the Person class and print the person's name and age."
      ],
      "metadata": {
        "id": "c42o7_NY5NNF"
      }
    },
    {
      "cell_type": "code",
      "source": [
        "class person:\n",
        "    def __init__(self, name, age):\n",
        "        self.name = name\n",
        "        self.age = age\n",
        "person1 = person(\"amir\" , 22)\n",
        "print(\"name :\",person1.name)\n",
        "print(\"age :\" ,person1.age)\n",
        "\n"
      ],
      "metadata": {
        "colab": {
          "base_uri": "https://localhost:8080/"
        },
        "id": "wmbZEErI5NUi",
        "outputId": "88d9890c-3371-4dcc-9f7a-40b85257efea"
      },
      "execution_count": null,
      "outputs": [
        {
          "output_type": "stream",
          "name": "stdout",
          "text": [
            "name : amir\n",
            "age : 22\n"
          ]
        }
      ]
    },
    {
      "cell_type": "markdown",
      "source": [
        "Question 6: Create a subclass called Student that inherits from the Person class. Add an additional attribute called student_id to the Student class. Create an instance of the Student class and print the student's name, age, and student ID."
      ],
      "metadata": {
        "id": "fLq0A2dF6act"
      }
    },
    {
      "cell_type": "code",
      "source": [
        "class Student(Person):\n",
        "    def __init__(self, name, age, student_id):\n",
        "        super().__init__(name, age)\n",
        "        self.student_id = student_id\n",
        "student1 = Student(\"amir\" , 22 , \"9727013\")\n",
        "print(\"Name:\", student1.name)\n",
        "print(\"Age:\", student1.age)\n",
        "print(\"Student ID:\", student1.student_id)"
      ],
      "metadata": {
        "colab": {
          "base_uri": "https://localhost:8080/"
        },
        "id": "_5gvpOw16ajD",
        "outputId": "c2864a09-91dc-4304-8fe0-688842407875"
      },
      "execution_count": null,
      "outputs": [
        {
          "output_type": "stream",
          "name": "stdout",
          "text": [
            "Name: amir\n",
            "Age: 22\n",
            "Student ID: 9727013\n"
          ]
        }
      ]
    },
    {
      "cell_type": "markdown",
      "source": [
        "Question 7: Write a Python program that prompts the user to enter a number and then prints whether the number is prime or not. Create a function called is_prime that takes an integer as an argument and returns True if it's prime, and False otherwise."
      ],
      "metadata": {
        "id": "gQRGoGrG7LzD"
      }
    },
    {
      "cell_type": "code",
      "source": [
        "def is_prime(num):\n",
        "    if num <= 1:\n",
        "        return False\n",
        "    for n in range(2, num):\n",
        "        if num % n == 0:\n",
        "            return False\n",
        "    return True\n",
        "\n",
        "num = int(input(\"Enter a number: \"))\n",
        "if is_prime(num):\n",
        "    print(num, \"is a prime number.\")\n",
        "else:\n",
        "    print(num, \"is not a prime number.\")\n"
      ],
      "metadata": {
        "colab": {
          "base_uri": "https://localhost:8080/"
        },
        "id": "VaP6u99Y7L77",
        "outputId": "25bd92b9-599f-4078-a8fd-acb4aeeddca9"
      },
      "execution_count": null,
      "outputs": [
        {
          "output_type": "stream",
          "name": "stdout",
          "text": [
            "Enter a number: 17\n",
            "17 is a prime number.\n"
          ]
        }
      ]
    },
    {
      "cell_type": "markdown",
      "source": [
        "Question 8: Write a Python program that calculates the factorial of a given number using a recursive function. Prompt the user for an integer input and print its factorial."
      ],
      "metadata": {
        "id": "iCI9Tckg8M6j"
      }
    },
    {
      "cell_type": "code",
      "source": [
        "def factorial(n):\n",
        "    if n == 0:\n",
        "        return 1\n",
        "    else:\n",
        "        return n * factorial(n-1)\n",
        "\n",
        "n = int(input(\"Enter an integer: \"))\n",
        "print(\"The factorial of\", n, \"is\", factorial(n))\n"
      ],
      "metadata": {
        "id": "juox0rkQ8NBD"
      },
      "execution_count": null,
      "outputs": []
    },
    {
      "cell_type": "markdown",
      "source": [
        "Question 9: Create a class called Rectangle with attributes width and height. Add a method calculate_area that calculates and returns the area of the rectangle. Create an instance of the Rectangle class and print its area."
      ],
      "metadata": {
        "id": "AjNBcYE58rmh"
      }
    },
    {
      "cell_type": "code",
      "source": [
        "class Rectangle:\n",
        "    def __init__(self, width, height):\n",
        "        self.width = width\n",
        "        self.height = height\n",
        "\n",
        "    def calculate_area(self):\n",
        "        return self.width * self.height\n",
        "\n",
        "rectangle = Rectangle(5, 8)\n",
        "print(\"The area of the rectangle is:\", rectangle.calculate_area())"
      ],
      "metadata": {
        "colab": {
          "base_uri": "https://localhost:8080/"
        },
        "id": "5fP-1A3d8ru5",
        "outputId": "77cee5bd-b452-4a2d-f51c-9914ed885d35"
      },
      "execution_count": null,
      "outputs": [
        {
          "output_type": "stream",
          "name": "stdout",
          "text": [
            "The area of the rectangle is: 40\n"
          ]
        }
      ]
    },
    {
      "cell_type": "markdown",
      "source": [
        "Question 10: Create a subclass called Square that inherits from the Rectangle class. Add a method calculate_perimeter to the Square class that calculates and returns the perimeter of the square. Create an instance of the Square class and print its perimeter."
      ],
      "metadata": {
        "id": "qL_KMFTS9R9h"
      }
    },
    {
      "cell_type": "code",
      "source": [],
      "metadata": {
        "id": "3y2ePy969SEa"
      },
      "execution_count": null,
      "outputs": []
    },
    {
      "cell_type": "markdown",
      "source": [
        "Question 11: Create a base class called Animal with attributes name and species. Provide a constructor to initialize these attributes and a method called speak that prints a generic message like \"The animal makes a sound.\""
      ],
      "metadata": {
        "id": "9BnhDb6_B8MV"
      }
    },
    {
      "cell_type": "code",
      "source": [
        "class Animal:\n",
        "    def __init__(self, name, species):\n",
        "        self.name = name\n",
        "        self.species = species\n",
        "\n",
        "    def speak(self):\n",
        "        print(\"The animal makes a sound.\")\n",
        "\n",
        "animal = Animal(\"Lion\", \"Panthera leo\")\n",
        "animal.speak()"
      ],
      "metadata": {
        "colab": {
          "base_uri": "https://localhost:8080/"
        },
        "id": "Qd5yYD-CB8Rn",
        "outputId": "390bc1c2-11ae-4a7d-9031-bce9516d48bd"
      },
      "execution_count": null,
      "outputs": [
        {
          "output_type": "stream",
          "name": "stdout",
          "text": [
            "The animal makes a sound.\n"
          ]
        }
      ]
    },
    {
      "cell_type": "markdown",
      "source": [
        "Question 12: Create a subclass called Dog that inherits from the Animal class. Add a constructor to initialize the name, species, and breed attributes specific to dogs. Override the speak method in the Dog class to print \"Woof!\""
      ],
      "metadata": {
        "id": "ZNQxhjtQCMkm"
      }
    },
    {
      "cell_type": "code",
      "source": [
        "class Dog(Animal):\n",
        "    def __init__(self, name, species, breed):\n",
        "        super().__init__(name, species)\n",
        "        self.breed = breed\n",
        "\n",
        "    def speak(self):\n",
        "        print(\"Woof!\")\n",
        "dog = Dog(\"Buddy\", \"Canis lupus familiaris\", \"Golden Retriever\")\n",
        "dog.speak()"
      ],
      "metadata": {
        "colab": {
          "base_uri": "https://localhost:8080/"
        },
        "id": "m4bXC_iPCMrX",
        "outputId": "a4527116-15fb-4a29-ce3c-fbe29c9b745b"
      },
      "execution_count": null,
      "outputs": [
        {
          "output_type": "stream",
          "name": "stdout",
          "text": [
            "Woof!\n"
          ]
        }
      ]
    },
    {
      "cell_type": "markdown",
      "source": [
        "Question 13: Create another subclass called Cat that inherits from the Animal class. Add a constructor to initialize the name, species, and color attributes specific to cats. Override the speak method in the Cat class to print \"Meow!\""
      ],
      "metadata": {
        "id": "xfpCZr-4CprU"
      }
    },
    {
      "cell_type": "code",
      "source": [
        "class Cat(Animal):\n",
        "    def __init__(self, name, species, color):\n",
        "        super().__init__(name, species)\n",
        "        self.color = color\n",
        "\n",
        "    def speak(self):\n",
        "        print(\"Meow!\")\n",
        "cat = Cat(\"Whiskers\", \"Felis catus\", \"Gray\")\n",
        "cat.speak()"
      ],
      "metadata": {
        "colab": {
          "base_uri": "https://localhost:8080/"
        },
        "id": "OuONnzUHCpy-",
        "outputId": "9048dd40-5ec4-4cdc-bae2-de599b9d8246"
      },
      "execution_count": null,
      "outputs": [
        {
          "output_type": "stream",
          "name": "stdout",
          "text": [
            "Meow!\n"
          ]
        }
      ]
    },
    {
      "cell_type": "markdown",
      "source": [
        "Question 14: Create instances of both the Dog and Cat classes and call their speak methods to demonstrate polymorphism."
      ],
      "metadata": {
        "id": "tvmWU-FKDAYk"
      }
    },
    {
      "cell_type": "code",
      "source": [
        "dog = Dog(\"Buddy\", \"Canis lupus familiaris\", \"Golden Retriever\")\n",
        "cat = Cat(\"Whiskers\", \"Felis catus\", \"Gray\")\n",
        "\n",
        "dog.speak()\n",
        "cat.speak()"
      ],
      "metadata": {
        "colab": {
          "base_uri": "https://localhost:8080/"
        },
        "id": "C3K9CM1pDAjV",
        "outputId": "3596580a-a479-4445-a3b8-f69d2fad283a"
      },
      "execution_count": null,
      "outputs": [
        {
          "output_type": "stream",
          "name": "stdout",
          "text": [
            "Woof!\n",
            "Meow!\n"
          ]
        }
      ]
    }
  ]
}